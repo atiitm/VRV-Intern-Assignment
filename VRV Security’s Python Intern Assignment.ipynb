{
 "cells": [
  {
   "cell_type": "markdown",
   "id": "c64183cf-5dd8-423a-a91e-c1641f7d0af0",
   "metadata": {},
   "source": [
    "**VRV Security’s Python Intern Assignment : Aniket Tiwari**"
   ]
  },
  {
   "cell_type": "markdown",
   "id": "dbaab1f0-4b22-4407-869c-f823575cac4b",
   "metadata": {},
   "source": [
    "Email: tiwarianiket12at@gmail.com"
   ]
  },
  {
   "cell_type": "markdown",
   "id": "07765a01-708e-4014-a693-29e5f8a58b81",
   "metadata": {},
   "source": [
    "**Task 1**"
   ]
  },
  {
   "cell_type": "code",
   "execution_count": 75,
   "id": "9aa34dbe-1c6b-4774-affd-cd9e54793b75",
   "metadata": {},
   "outputs": [],
   "source": [
    "import pandas as pd\n",
    "log_file_path = \"sample.log\""
   ]
  },
  {
   "cell_type": "code",
   "execution_count": 76,
   "id": "3e70043c-77dc-4ad0-9869-aefab5c8e00d",
   "metadata": {},
   "outputs": [],
   "source": [
    "# Function to process log file using pandas\n",
    "def analyze_log_with_pandas(log_file):\n",
    "    \n",
    "    # Read the log file into a DataFrame\n",
    "    # Assume the IP address is the first space-separated field\n",
    "    log_data = pd.read_csv(log_file, sep=' ', header=None, usecols=[0], names=['IP'])\n",
    "\n",
    "    # Count occurrences of each IP address\n",
    "    ip_counts = log_data['IP'].value_counts()\n",
    "\n",
    "    # Convert to a DataFrame for better display and further processing\n",
    "    requests_per_ip = ip_counts.reset_index()\n",
    "    requests_per_ip.columns = ['IP Address', 'Request Count']\n",
    "\n",
    "    # Return the DataFrame\n",
    "    return requests_per_ip\n",
    "\n",
    "# Analyze the log file and get requests_per_ip\n",
    "requests_per_ip_df = analyze_log_with_pandas(log_file_path)"
   ]
  },
  {
   "cell_type": "markdown",
   "id": "8415f314-6613-4a3d-ba8f-a5badbba2b31",
   "metadata": {},
   "source": [
    "**Task 2**"
   ]
  },
  {
   "cell_type": "code",
   "execution_count": 77,
   "id": "a8a9f3d9-63bc-4953-a445-d2e58bbd54ff",
   "metadata": {},
   "outputs": [],
   "source": [
    "def find_most_accessed_endpoint(log_file):\n",
    "    # Assuming the endpoint is the seventh space-separated field (index 6 in zero-based indexing)\n",
    "    log_data = pd.read_csv(log_file, sep=' ', header=None, usecols=[5], names=['Endpoint'])\n",
    "\n",
    "    # Clean up the Endpoint column: remove surrounding quotes and extract the path part\n",
    "    log_data['Endpoint'] = log_data['Endpoint'].str.extract(r'(/[^ ]*)')  # Extract just the path part\n",
    "\n",
    "    # Count occurrences of each endpoint\n",
    "    endpoint_counts = log_data['Endpoint'].value_counts()\n",
    "\n",
    "    # Find the most accessed endpoint\n",
    "    most_accessed_endpoint = endpoint_counts.idxmax()\n",
    "    access_count = endpoint_counts.max()\n",
    "\n",
    "    # Create a DataFrame for the result\n",
    "    result = pd.DataFrame({'Endpoint': [most_accessed_endpoint], 'Access Count': [access_count]})\n",
    "\n",
    "    # Return the DataFrame\n",
    "    return result\n",
    "\n",
    "# Call the function with the log file path\n",
    "most_accessed_endpoint_df = find_most_accessed_endpoint(log_file_path)"
   ]
  },
  {
   "cell_type": "markdown",
   "id": "10a6063b-9cc8-46ec-9899-d9c61e9d19f7",
   "metadata": {},
   "source": [
    "**TASK 3**"
   ]
  },
  {
   "cell_type": "code",
   "execution_count": 78,
   "id": "87c24cc8-eeb6-425c-b4f8-77eb29fd8c93",
   "metadata": {},
   "outputs": [
    {
     "name": "stdout",
     "output_type": "stream",
     "text": [
      "\n",
      "No suspicious activity detected.\n"
     ]
    }
   ],
   "source": [
    "# Function to detect suspicious activity\n",
    "def detect_suspicious_activity(log_file, threshold=10):\n",
    "    # Extract IP addresses (1st column) and status codes (9th column in zero-based indexing)\n",
    "    log_data = pd.read_csv(log_file, sep=' ', header=None, usecols=[0, 8], names=['IP', 'Status'])\n",
    "\n",
    "    # Filter for failed login attempts (HTTP status code 401)\n",
    "    failed_attempts = log_data[log_data['Status'] == 401]\n",
    "\n",
    "    # Count failed login attempts per IP address\n",
    "    failed_counts = failed_attempts['IP'].value_counts()\n",
    "\n",
    "    # Filter for IPs exceeding the threshold\n",
    "    suspicious_ips = failed_counts[failed_counts > threshold]\n",
    "\n",
    "    # Convert to DataFrame for the result\n",
    "    result = suspicious_ips.reset_index()\n",
    "    result.columns = ['IP Address', 'Failed Login Attempts']\n",
    "\n",
    "    # Return the DataFrame\n",
    "    return result\n",
    "\n",
    "# Call the function with the log file path\n",
    "suspicious_activity_df = detect_suspicious_activity(log_file_path, threshold=10)\n",
    "\n",
    "# Display the result (optional)\n",
    "if suspicious_activity_df.empty:\n",
    "    print(\"\\nNo suspicious activity detected.\")\n",
    "else:\n",
    "    print(\"\\nSuspicious Activity Detected:\")\n",
    "    print(suspicious_activity_df.to_string(index=False))"
   ]
  },
  {
   "cell_type": "markdown",
   "id": "4798f4ea-6479-41e4-b455-4b575f210875",
   "metadata": {},
   "source": [
    "**Task 4**"
   ]
  },
  {
   "cell_type": "code",
   "execution_count": 79,
   "id": "59bab68c-b28e-4195-b81b-0fad8bdfdd4e",
   "metadata": {},
   "outputs": [
    {
     "name": "stdout",
     "output_type": "stream",
     "text": [
      "\n",
      "Requests per IP Address:\n",
      "   IP Address  Request Count\n",
      "  203.0.113.5              8\n",
      "198.51.100.23              8\n",
      "  192.168.1.1              7\n",
      "     10.0.0.2              6\n",
      "192.168.1.100              5\n",
      "\n",
      "Most Frequently Accessed Endpoint:\n",
      "Endpoint  Access Count\n",
      "  /login            13\n",
      "\n",
      "Suspicious Activity Detected:\n",
      "No suspicious activity detected.\n",
      "\n",
      "Results saved to log_analysis_results.csv\n"
     ]
    }
   ],
   "source": [
    "def save_and_display_results(requests_per_ip, most_accessed_endpoint, suspicious_activity, output_file='log_analysis_results.csv'):\n",
    "    # Display the results\n",
    "    print(\"\\nRequests per IP Address:\")\n",
    "    print(requests_per_ip.to_string(index=False))\n",
    "\n",
    "    print(\"\\nMost Frequently Accessed Endpoint:\")\n",
    "    print(most_accessed_endpoint.to_string(index=False))\n",
    "\n",
    "    print(\"\\nSuspicious Activity Detected:\")\n",
    "    if suspicious_activity.empty:\n",
    "        print(\"No suspicious activity detected.\")\n",
    "    else:\n",
    "        print(suspicious_activity.to_string(index=False))\n",
    "\n",
    "    # Write results to a single CSV file\n",
    "    with open(output_file, 'w') as f:\n",
    "        # Write Requests per IP section\n",
    "        f.write(\"Requests per IP\\n\")\n",
    "        requests_per_ip.to_csv(f, index=False)\n",
    "        f.write(\"\\n\\n\") \n",
    "\n",
    "        # Write Most Accessed Endpoint section\n",
    "        f.write(\"Most Accessed Endpoint\\n\")\n",
    "        most_accessed_endpoint.to_csv(f, index=False)\n",
    "        f.write(\"\\n\\n\") \n",
    "\n",
    "        # Write Suspicious Activity section\n",
    "        f.write(\"Suspicious Activity\\n\")\n",
    "        if suspicious_activity.empty:\n",
    "            f.write(\"No suspicious activity detected\\n\")\n",
    "        else:\n",
    "            suspicious_activity.to_csv(f, index=False)\n",
    "        f.write(\"\\n\")\n",
    "\n",
    "    print(f\"\\nResults saved to {output_file}\")\n",
    "    \n",
    "save_and_display_results(requests_per_ip_df, most_accessed_endpoint_df, suspicious_activity_df)"
   ]
  },
  {
   "cell_type": "markdown",
   "id": "fdcce57f-289c-4665-b2a6-e1f53b1eb9ec",
   "metadata": {},
   "source": [
    "**For Instance**"
   ]
  },
  {
   "cell_type": "code",
   "execution_count": 59,
   "id": "3fceca31-19eb-47e3-8204-a81580932bd9",
   "metadata": {},
   "outputs": [
    {
     "name": "stdout",
     "output_type": "stream",
     "text": [
      "\n",
      "Requests per IP Address:\n",
      "   IP Address  Request Count\n",
      "  192.168.1.1             45\n",
      " 203.0.113.45             32\n",
      "198.51.100.23             28\n",
      "\n",
      "Most Frequently Accessed Endpoint:\n",
      "  Endpoint  Access Count\n",
      "/home.html            54\n",
      "\n",
      "Suspicious Activity Detected:\n",
      "   IP Address  Failed Login Count\n",
      "192.168.1.100                  56\n",
      " 203.0.113.34                  12\n",
      "\n",
      "Results saved to log_analysis_results.csv\n"
     ]
    }
   ],
   "source": [
    "# Example DataFrames\n",
    "requests_per_ip_df = pd.DataFrame({'IP Address': ['192.168.1.1', '203.0.113.45', '198.51.100.23'],\n",
    "                                   'Request Count': [45, 32, 28]})\n",
    "\n",
    "most_accessed_endpoint_df = pd.DataFrame({'Endpoint': ['/home.html'], 'Access Count': [54]})\n",
    "\n",
    "suspicious_activity_df = pd.DataFrame({'IP Address': ['192.168.1.100', '203.0.113.34'],\n",
    "                                       'Failed Login Count': [56, 12]})\n",
    "\n",
    "# Call the function\n",
    "save_and_display_results(requests_per_ip_df, most_accessed_endpoint_df, suspicious_activity_df)"
   ]
  },
  {
   "cell_type": "code",
   "execution_count": null,
   "id": "8c79fb7b-d579-45cd-b93e-72878e2203e8",
   "metadata": {},
   "outputs": [],
   "source": []
  }
 ],
 "metadata": {
  "kernelspec": {
   "display_name": "Python 3 (ipykernel)",
   "language": "python",
   "name": "python3"
  },
  "language_info": {
   "codemirror_mode": {
    "name": "ipython",
    "version": 3
   },
   "file_extension": ".py",
   "mimetype": "text/x-python",
   "name": "python",
   "nbconvert_exporter": "python",
   "pygments_lexer": "ipython3",
   "version": "3.11.4"
  }
 },
 "nbformat": 4,
 "nbformat_minor": 5
}
